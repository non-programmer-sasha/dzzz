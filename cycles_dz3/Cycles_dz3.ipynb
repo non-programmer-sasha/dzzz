{
 "cells": [
  {
   "cell_type": "markdown",
   "metadata": {},
   "source": [
    "#  Задание №1"
   ]
  },
  {
   "cell_type": "markdown",
   "metadata": {},
   "source": [
    "Дана переменная, в которой хранится словарь, содержащий гео-метки для каждого пользователя (пример структуры данных приведен ниже). Вам необходимо написать программу, которая выведет на экран множество уникальных гео-меток всех пользователей."
   ]
  },
  {
   "cell_type": "code",
   "execution_count": 73,
   "metadata": {},
   "outputs": [
    {
     "name": "stdout",
     "output_type": "stream",
     "text": [
      "{32, 17, 167, 154, 44, 12}\n"
     ]
    }
   ],
   "source": [
    "geo = {\n",
    "'user1': [167, 154, 44, 154, 32, 44, 44, 167], \n",
    "'user2': [32, 44, 32, 17, 44, 154], \n",
    "'user3': [167, 44, 12, 167, 44]\n",
    "}\n",
    "pust= set() #создаем пустое множество \n",
    "for i in geo.values(): #создаем цикл для того, чтобы избежать попадание дубликатов\n",
    "    pust = pust|set(i) #объединяем пусстое множенство и уникальные значения словаря\n",
    "print(pust)"
   ]
  },
  {
   "cell_type": "code",
   "execution_count": null,
   "metadata": {},
   "outputs": [],
   "source": []
  },
  {
   "cell_type": "markdown",
   "metadata": {},
   "source": [
    "# Задание №2"
   ]
  },
  {
   "cell_type": "markdown",
   "metadata": {},
   "source": [
    "Дана переменная, в которой хранится список поисковых запросов пользователя (пример структуры данных приведен ниже). Вам необходимо написать программу, которая выведет на экран распределение количества слов в запросах в требуемом виде."
   ]
  },
  {
   "cell_type": "code",
   "execution_count": 88,
   "metadata": {},
   "outputs": [
    {
     "name": "stdout",
     "output_type": "stream",
     "text": [
      "Поисковых запросов из 3 cлов - 57.14 %\n",
      "Поисковых запросов из 2 cлов - 42.86 %\n"
     ]
    }
   ],
   "source": [
    "queries = [\n",
    "'смотреть сериалы онлайн',\n",
    "'новости спорта',\n",
    "'афиша кино',\n",
    "'курс доллара',\n",
    "'сериалы этим летом',\n",
    "'курс по питону',\n",
    "'сериалы про спорт',\n",
    "]\n",
    "\n",
    "mn = {}\n",
    "for i in queries:\n",
    "    k = len(i.split(' ')) # разделяем выражения по количеству слов\n",
    "    if mn.get(k) == None: # так как словарь пустой, создаем ключ и присвиваем ему значение 1\n",
    "        mn[k] = 1\n",
    "    else:  # если ключ уже есть, мы не создаем новых, а просто прибавляем 1 к его значению \n",
    "        mn[k] += 1 # суммируем значение правого операнда и левого, присваивая сумму левому операнду\n",
    "for k_i in mn.items():\n",
    "    print('Поисковых запросов из',k_i[0],'cлов','-', round(100*k_i[1]/len(queries),2),'%')"
   ]
  },
  {
   "cell_type": "markdown",
   "metadata": {},
   "source": [
    "# Задание №3"
   ]
  },
  {
   "cell_type": "markdown",
   "metadata": {},
   "source": [
    "Дана переменная, в которой хранится информация о затратах и доходе рекламных кампаний по различным источникам. Необходимо дополнить исходную структуру показателем ROI, который рассчитаем по формуле: (revenue / cost - 1) * 100"
   ]
  },
  {
   "cell_type": "code",
   "execution_count": 102,
   "metadata": {},
   "outputs": [
    {
     "name": "stdout",
     "output_type": "stream",
     "text": [
      "ROI 5.1\n",
      "vk {'revenue': 103, 'cost': 98, 'ROI': 5.1}\n",
      "ROI 16.99\n",
      "yandex {'revenue': 179, 'cost': 153, 'ROI': 16.99}\n",
      "ROI -6.36\n",
      "facebook {'revenue': 103, 'cost': 110, 'ROI': -6.36}\n",
      "ROI 2.94\n",
      "adwords {'revenue': 35, 'cost': 34, 'ROI': 2.94}\n",
      "ROI -54.17\n",
      "twitter {'revenue': 11, 'cost': 24, 'ROI': -54.17}\n"
     ]
    }
   ],
   "source": [
    "results = {\n",
    "'vk': {'revenue': 103, 'cost': 98},\n",
    "'yandex': {'revenue': 179, 'cost': 153},\n",
    "'facebook': {'revenue': 103, 'cost': 110},\n",
    "'adwords': {'revenue': 35, 'cost': 34},\n",
    "'twitter': {'revenue': 11, 'cost': 24},\n",
    "}\n",
    "\n",
    "for key,value in results.items():\n",
    "    value['ROI'] = round(((value['revenue'] / value['cost']) - 1 )*100, 2)\n",
    "    print('ROI', value['ROI'])\n",
    "    \n",
    "    print(key, value)"
   ]
  },
  {
   "cell_type": "markdown",
   "metadata": {},
   "source": [
    "# Задание №4"
   ]
  },
  {
   "cell_type": "markdown",
   "metadata": {},
   "source": [
    "Дана переменная, в которой хранится статистика рекламных каналов по объемам продаж (пример структуры данных приведен ниже). Напишите программу, которая возвращает название канала с максимальным объемом продаж."
   ]
  },
  {
   "cell_type": "code",
   "execution_count": 50,
   "metadata": {},
   "outputs": [
    {
     "name": "stdout",
     "output_type": "stream",
     "text": [
      "Максимальный объем продаж в vk\n"
     ]
    }
   ],
   "source": [
    "stats = {'facebook': 55, 'yandex': 110, 'vk': 120, 'google': 99, 'email': 42, 'ok': 98}\n",
    "maxv = max(stats, key=stats.get)\n",
    "print('Максимальный объем продаж в', maxv)\n",
    "\n"
   ]
  },
  {
   "cell_type": "code",
   "execution_count": null,
   "metadata": {},
   "outputs": [],
   "source": []
  },
  {
   "cell_type": "code",
   "execution_count": null,
   "metadata": {},
   "outputs": [],
   "source": []
  }
 ],
 "metadata": {
  "kernelspec": {
   "display_name": "Python 3",
   "language": "python",
   "name": "python3"
  },
  "language_info": {
   "codemirror_mode": {
    "name": "ipython",
    "version": 3
   },
   "file_extension": ".py",
   "mimetype": "text/x-python",
   "name": "python",
   "nbconvert_exporter": "python",
   "pygments_lexer": "ipython3",
   "version": "3.8.3"
  }
 },
 "nbformat": 4,
 "nbformat_minor": 4
}
