{
 "cells": [
  {
   "cell_type": "code",
   "execution_count": 1,
   "metadata": {},
   "outputs": [],
   "source": [
    "documents = [\n",
    "{'type': 'passport', 'number': '2207 876234', 'name': 'Василий Гупкин'},\n",
    "{'type': 'invoice', 'number': '11-2', 'name': 'Геннадий Покемонов'},\n",
    "{'type': 'insurance', 'number': '10006', 'name': 'Аристарх Павлов'}\n",
    "]\n",
    "\n",
    "directories = {\n",
    "'1': ['2207 876234', '11-2'],\n",
    "'2': ['10006'],\n",
    "'3': []\n",
    "}"
   ]
  },
  {
   "cell_type": "markdown",
   "metadata": {},
   "source": [
    "# Задание 1"
   ]
  },
  {
   "cell_type": "markdown",
   "metadata": {},
   "source": [
    "# Пункт 1  \n",
    "Пользователь по команде “p” может узнать владельца документа по его номеру"
   ]
  },
  {
   "cell_type": "code",
   "execution_count": 2,
   "metadata": {},
   "outputs": [],
   "source": [
    "def doc_id(doc_number):\n",
    "    result = \"Документ с подобным номером не найден\"\n",
    "    for doc in documents:\n",
    "        if doc['number'] == doc_number:\n",
    "            result = 'Владелец документа ' + doc['name']\n",
    "    return result"
   ]
  },
  {
   "cell_type": "markdown",
   "metadata": {},
   "source": [
    "# Пункт 2   \n",
    "Пользователь по команде “s” может по номеру документа узнать на какой полке он хранится"
   ]
  },
  {
   "cell_type": "code",
   "execution_count": 3,
   "metadata": {},
   "outputs": [],
   "source": [
    "def doc_shelf(doc_num):\n",
    "    result = \"Полка не найдена\"\n",
    "    for shelf in directories:\n",
    "        if doc_num in directories[shelf]:\n",
    "            result = 'Документ находится на полке ' + str(shelf)  \n",
    "    return result"
   ]
  },
  {
   "cell_type": "markdown",
   "metadata": {},
   "source": [
    "# Пункт 3  \n",
    "Пользователь по команде “l” может увидеть полную информацию по всем документам"
   ]
  },
  {
   "cell_type": "code",
   "execution_count": 4,
   "metadata": {
    "scrolled": true
   },
   "outputs": [],
   "source": [
    "def doc_info(doc_num):\n",
    "    result = \"Документ не найден\"\n",
    "    for doc in documents:\n",
    "        result = (doc['type'] + ' \" ' + doc['number'] +' \"' + ' \" ' + doc['name'] + ' \"')\n",
    "    return result"
   ]
  },
  {
   "cell_type": "markdown",
   "metadata": {},
   "source": [
    "#  Пункт 4\n",
    "Пользователь по команде “ds” может удалить существующую полку из данных (только если она пустая)"
   ]
  },
  {
   "cell_type": "code",
   "execution_count": 5,
   "metadata": {},
   "outputs": [],
   "source": [
    "def plk_del():\n",
    "    plk = input('Введите номер полки')\n",
    "    if plk in directories:\n",
    "        print('Полка с таким номером уже существует')\n",
    "    else:\n",
    "        new_plk = input('Повторите ввод для добавления новой полки с данным номером')\n",
    "        directories.setdefault(new_plk)"
   ]
  },
  {
   "cell_type": "code",
   "execution_count": 6,
   "metadata": {},
   "outputs": [
    {
     "name": "stdout",
     "output_type": "stream",
     "text": [
      "{'1': ['2207 876234', '11-2'], '2': ['10006'], '3': []}\n",
      " -> p\n",
      "Введите номер Вашего документа:11-2\n",
      "Результат поиска: Владелец документа Геннадий Покемонов\n",
      " -> s\n",
      "Введите номер Вашего документа:11-2\n",
      "Результат поиска: Документ находится на полке 1\n",
      " -> l\n",
      "Введите номер документа для просмотра профиля:11-2\n",
      "Результат поиска: invoice \"11-2\" \"Геннадий Покемонов\"\n",
      " -> ds\n",
      "Введите номер полки4\n",
      "Повторите ввод для добавления новой полки с данным номером4\n",
      "Результат: None\n",
      " -> q\n",
      "Выход\n"
     ]
    }
   ],
   "source": [
    "def doc_id(doc_number):\n",
    "    result = \"Документ с подобным номером не найден\"\n",
    "    for doc in documents:\n",
    "        if doc['number'] == doc_number:\n",
    "            result = 'Владелец документа ' + doc['name']\n",
    "    return result\n",
    "\n",
    "def doc_shelf(doc_num):\n",
    "    result = \"Полка не найдена\"\n",
    "    for shelf in directories:\n",
    "        if doc_num in directories[shelf]:\n",
    "            result = 'Документ находится на полке ' + str(shelf)  \n",
    "    return result\n",
    "\n",
    "def doc_info(info_num):\n",
    "    result = \"Документ не найден\"\n",
    "    for doc in documents:\n",
    "        if doc['number'] == info_num:\n",
    "            result = (doc['type'] + ' \"' + doc['number'] +'\"' + ' \"' + doc['name'] + '\"')\n",
    "    return result\n",
    "\n",
    "def po_bukve(a):\n",
    "    result = 0\n",
    "    if a == 'p':\n",
    "        doc_number = input('Введите номер Вашего документа:')\n",
    "        print('Результат поиска:', doc_id(doc_number))\n",
    "        result = 'people'\n",
    "    elif a == 's':\n",
    "        doc_num = input('Введите номер Вашего документа:')\n",
    "        print('Результат поиска:', doc_shelf(doc_num))\n",
    "        result = 'shelf'\n",
    "    elif a == 'l':\n",
    "        info_num = input('Введите номер документа для просмотра профиля:')\n",
    "        print('Результат поиска:', doc_info(info_num))\n",
    "        result = 'shelf'\n",
    "    elif a == 'ds':\n",
    "        plk = input('Введите номер полки')\n",
    "        if plk in directories:\n",
    "            print('Полка с таким номером уже существует')\n",
    "        else:\n",
    "            new_plk = input('Повторите ввод для добавления новой полки с данным номером')\n",
    "            directories.setdefault(new_plk)\n",
    "        print('Результат:', directories[plk])\n",
    "        result = 'delete'\n",
    "    elif a == 'q':\n",
    "        print('Выход')\n",
    "        result = 'exit'\n",
    "    else:\n",
    "        print('Неизвестная команда')\n",
    "        result = 'unknown'\n",
    "    return result\n",
    "\n",
    "print(directories)\n",
    "while True:\n",
    "    a = input(' -> ')\n",
    "    res = po_bukve(a) \n",
    "    if res == 'exit':\n",
    "        break\n"
   ]
  },
  {
   "cell_type": "code",
   "execution_count": null,
   "metadata": {},
   "outputs": [],
   "source": []
  },
  {
   "cell_type": "code",
   "execution_count": null,
   "metadata": {},
   "outputs": [],
   "source": []
  }
 ],
 "metadata": {
  "kernelspec": {
   "display_name": "Python 3",
   "language": "python",
   "name": "python3"
  },
  "language_info": {
   "codemirror_mode": {
    "name": "ipython",
    "version": 3
   },
   "file_extension": ".py",
   "mimetype": "text/x-python",
   "name": "python",
   "nbconvert_exporter": "python",
   "pygments_lexer": "ipython3",
   "version": "3.8.3"
  }
 },
 "nbformat": 4,
 "nbformat_minor": 4
}
