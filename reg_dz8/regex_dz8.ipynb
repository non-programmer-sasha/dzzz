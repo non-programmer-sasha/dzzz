{
 "cells": [
  {
   "cell_type": "markdown",
   "metadata": {},
   "source": [
    "## Домашняя работа\n",
    "## Задание 1\n"
   ]
  },
  {
   "cell_type": "markdown",
   "metadata": {},
   "source": [
    "Напишите функцию, которая принимает на вход строку и проверяет является ли она валидным транспортным номером (1 буква, 3 цифры, 2 буквы, 2-3 цифры). Обратите внимание, что не все буквы кириллического алфавита используются в транспортных номерах.  \n",
    "\n",
    "Если номер валиден, то функция должна возвращать отдельно номер и регион."
   ]
  },
  {
   "cell_type": "code",
   "execution_count": 4,
   "metadata": {},
   "outputs": [
    {
     "name": "stdout",
     "output_type": "stream",
     "text": [
      "Транспортный номер р107ам197 является валидным\n",
      "Транспортный номер ab108ам196 не является валидным\n",
      "Транспортный номер в236ар96 является валидным\n",
      "Транспортный номер а9374 не является валидным\n",
      "Транспортный номер м2354ср196 не является валидным\n",
      "Транспортный номер м103ор02 является валидным\n",
      "Транспортный номер л109ав197 не является валидным\n"
     ]
    }
   ],
   "source": [
    "import re\n",
    "numbers = ['р107ам197','ab108ам196','в236ар96','а9374','м2354ср196','м103ор02', 'л109ав197']\n",
    "\n",
    "regex_num =r'[авекмнорстухАВЕКМНОРСТУХ]{1}[\\d]{3}[авекмнорстухАВЕКМНОРСТУХ]{2}[\\d]{2,3}' \n",
    "\n",
    "for n in numbers:\n",
    "    if re.match(regex_num, n):\n",
    "        print('Транспортный номер {} является валидным'.format(n))\n",
    "    else:\n",
    "        print('Транспортный номер {} не является валидным'.format(n))"
   ]
  },
  {
   "cell_type": "markdown",
   "metadata": {},
   "source": [
    "## Задание 2"
   ]
  },
  {
   "cell_type": "markdown",
   "metadata": {},
   "source": [
    "Напишите функцию, которая будет удалять все последовательные повторы слов из заданной строки при помощи регулярных выражений."
   ]
  },
  {
   "cell_type": "code",
   "execution_count": 45,
   "metadata": {},
   "outputs": [
    {
     "name": "stdout",
     "output_type": "stream",
     "text": [
      "повторяю разные слова для домашней работы\n"
     ]
    }
   ],
   "source": [
    "words = \"повторяю повторяю разные разные слова для для домашней работы работы\"\n",
    "print(re.sub(r'\\b([^\\W]+)(\\s+\\1)+\\b', r'\\1', re.sub(r'\\W+', ' ', words).strip()))"
   ]
  },
  {
   "cell_type": "markdown",
   "metadata": {},
   "source": [
    "## Задание 3"
   ]
  },
  {
   "cell_type": "markdown",
   "metadata": {},
   "source": [
    "Напишите функцию, которая будет возвращать акроним по переданной в нее строке со словами.\n",
    "\n"
   ]
  },
  {
   "cell_type": "code",
   "execution_count": 7,
   "metadata": {},
   "outputs": [
    {
     "name": "stdout",
     "output_type": "stream",
     "text": [
      "ИТ\n"
     ]
    }
   ],
   "source": [
    "some_words = 'Информационные Технологии'\n",
    "text = re.findall(r'[А-ЯЁ|А-ЯЁ]', some_words)\n",
    " \n",
    "print(''.join(text))\n"
   ]
  },
  {
   "cell_type": "markdown",
   "metadata": {},
   "source": [
    "## Задание 4"
   ]
  },
  {
   "cell_type": "markdown",
   "metadata": {},
   "source": [
    "Напишите функцию, которая будет принимать на вход список email-адресов и выводить их распределение по доменным зонам."
   ]
  },
  {
   "cell_type": "code",
   "execution_count": 37,
   "metadata": {},
   "outputs": [
    {
     "name": "stdout",
     "output_type": "stream",
     "text": [
      "['com', 'in', 'ru', 'ru', 'ru', 'com']\n"
     ]
    }
   ],
   "source": [
    "result = re.findall(r'@\\w+.(\\w+)', 'test@gmail.com, xyz@test.in, test@ya.ru, xyz@mail.ru, xyz@ya.ru’, xyz@gmail.com')\n",
    "print(result)\n"
   ]
  }
 ],
 "metadata": {
  "kernelspec": {
   "display_name": "Python 3",
   "language": "python",
   "name": "python3"
  },
  "language_info": {
   "codemirror_mode": {
    "name": "ipython",
    "version": 3
   },
   "file_extension": ".py",
   "mimetype": "text/x-python",
   "name": "python",
   "nbconvert_exporter": "python",
   "pygments_lexer": "ipython3",
   "version": "3.8.3"
  }
 },
 "nbformat": 4,
 "nbformat_minor": 4
}
