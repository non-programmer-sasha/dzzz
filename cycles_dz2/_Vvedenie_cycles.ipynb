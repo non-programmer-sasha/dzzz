{
 "cells": [
  {
   "cell_type": "markdown",
   "metadata": {},
   "source": [
    "# Задание 1\n",
    "Дана переменная, в которой хранится слово из латинских букв. Напишите код, который выводит на экран:\n",
    "\n",
    "среднюю букву, если число букв в слове нечетное;  \n",
    "две средних буквы, если число букв четное.\n",
    "\n",
    "\n"
   ]
  },
  {
   "cell_type": "code",
   "execution_count": 14,
   "metadata": {},
   "outputs": [
    {
     "name": "stdout",
     "output_type": "stream",
     "text": [
      "Введите слово латиницей = chewing\n",
      "w\n"
     ]
    }
   ],
   "source": [
    "Word = input('Введите слово латиницей = ')\n",
    "\n",
    "if len(Word)% 2 == 0:\n",
    "    print(Word[len(Word)//2-1] + Word[len(Word)//2])\n",
    "else:\n",
    "    print(Word[len(Word)//2])"
   ]
  },
  {
   "cell_type": "markdown",
   "metadata": {},
   "source": [
    "#  Задание № 2\n"
   ]
  },
  {
   "cell_type": "markdown",
   "metadata": {},
   "source": [
    "Напишите программу, которая последовательно запрашивает у пользователя числа (по одному за раз) и после первого нуля выводит сумму всех ранее введенных чисел."
   ]
  },
  {
   "cell_type": "code",
   "execution_count": 25,
   "metadata": {},
   "outputs": [
    {
     "name": "stdout",
     "output_type": "stream",
     "text": [
      "Введите число = 8\n",
      "Введите число = 9\n",
      "Введите число = 6\n",
      "Введите число = 0\n",
      "Сумма раннее введенных чисел составила = 23\n"
     ]
    }
   ],
   "source": [
    "num = int(input('Введите число = '))\n",
    "summ = 0\n",
    "while num != 0:\n",
    "    summ = summ + num\n",
    "    num = int(input('Введите число = '))\n",
    "print ('Сумма раннее введенных чисел составила =',summ)"
   ]
  },
  {
   "cell_type": "markdown",
   "metadata": {},
   "source": [
    "# Задание № 3"
   ]
  },
  {
   "cell_type": "markdown",
   "metadata": {},
   "source": [
    "Мы делаем MVP dating-сервиса, и у нас есть список парней и девушек.  \n",
    "Выдвигаем гипотезу: лучшие рекомендации мы получим, если просто отсортируем имена по алфавиту и познакомим людей с одинаковыми индексами после сортировки! Но мы не будем никого знакомить, если кто-то может остаться без пары:"
   ]
  },
  {
   "cell_type": "code",
   "execution_count": 85,
   "metadata": {},
   "outputs": [
    {
     "name": "stdout",
     "output_type": "stream",
     "text": [
      "andrew and bridget\n",
      "blake and brie\n",
      "carl and carla\n",
      "dorian and marie\n",
      "vincent and olivia\n"
     ]
    }
   ],
   "source": [
    "guys = ['andrew','carl','vincent','blake','dorian']\n",
    "girls = ['brie','carla','olivia','marie','bridget']\n",
    "\n",
    "zip_people = zip(sorted(guys), sorted(girls)) # объединяем отсортированные по алфавиту списки парней и девушек\n",
    "list_couple = list(zip_people) # полученный кортеж представляем списком\n",
    "for people in list_couple: # выводим на экран с помощью цикла по новой паре \n",
    "    if len(guys)!=len(girls): # обозначаем, что команда не будет работать, если количество парней и девушек различно\n",
    "        break\n",
    "    print (people[0],'and', people[1])\n"
   ]
  },
  {
   "cell_type": "markdown",
   "metadata": {},
   "source": [
    "# Задание № 4"
   ]
  },
  {
   "cell_type": "markdown",
   "metadata": {},
   "source": [
    "У нас есть список, содержащий информацию о среднедневной температуре в Фаренгейтах за произвольный период по странам (структура данных в примере). Необходимо написать код, который рассчитает среднюю температуру за период в Цельсиях(!) для каждой страны."
   ]
  },
  {
   "cell_type": "code",
   "execution_count": 89,
   "metadata": {},
   "outputs": [
    {
     "name": "stdout",
     "output_type": "stream",
     "text": [
      "Thailand 23.857142857142854\n",
      "Germany 13.799999999999999\n",
      "Russia 3.714285714285717\n",
      "Poland 11.999999999999998\n"
     ]
    }
   ],
   "source": [
    "countries_temp = [\n",
    "    ['Thailand', [75.2, 77, 78.8, 73.4, 68, 75.2, 77]],\n",
    "    ['Germany', [57.2, 55.4, 59, 59, 53.6]],\n",
    "    ['Russia', [35.6, 37.4, 39.2, 41, 42.8, 39.2, 35.6]],\n",
    "    ['Poland', [50, 50, 53.6, 57.2, 55.4, 55.4]]\n",
    "]\n",
    "# просто формула перевода (32 °F − 32) × 5/9 = 0 °C\n",
    "\n",
    "for country in countries_temp: # адаптируем формулу под заданные условия\n",
    "    print(country[0],(sum(country[1]) / len(country[1])-32)*(5/9))  # находим среднее для каждого периода и дальше пользуемся условиями раннее представленной формулы"
   ]
  },
  {
   "cell_type": "markdown",
   "metadata": {},
   "source": [
    "# Пока делала отлетела часов на 5, поэтому хотелось бы принести свои извинения пятой необязательной задаче   \n",
    "# Однажды настанет день (на длинных выходных, полагаю, не раньше), и мы провернем кое-что..."
   ]
  },
  {
   "cell_type": "code",
   "execution_count": null,
   "metadata": {},
   "outputs": [],
   "source": []
  }
 ],
 "metadata": {
  "kernelspec": {
   "display_name": "Python 3",
   "language": "python",
   "name": "python3"
  },
  "language_info": {
   "codemirror_mode": {
    "name": "ipython",
    "version": 3
   },
   "file_extension": ".py",
   "mimetype": "text/x-python",
   "name": "python",
   "nbconvert_exporter": "python",
   "pygments_lexer": "ipython3",
   "version": "3.8.3"
  }
 },
 "nbformat": 4,
 "nbformat_minor": 4
}
